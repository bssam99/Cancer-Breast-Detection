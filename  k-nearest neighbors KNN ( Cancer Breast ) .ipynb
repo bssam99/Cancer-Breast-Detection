{
 "cells": [
  {
   "cell_type": "markdown",
   "id": "999abe77",
   "metadata": {},
   "source": [
    "## Import Relevant Libraries"
   ]
  },
  {
   "cell_type": "code",
   "execution_count": 19,
   "id": "964d427c",
   "metadata": {
    "ExecuteTime": {
     "end_time": "2024-12-10T13:52:13.612289Z",
     "start_time": "2024-12-10T13:52:13.603570Z"
    }
   },
   "outputs": [],
   "source": [
    "import pandas as pd\n",
    "import matplotlib.pyplot as plt\n",
    "import numpy as np\n",
    "import seaborn as sns\n",
    "from sklearn.neighbors import KNeighborsClassifier\n",
    "from sklearn.model_selection import train_test_split\n",
    "sns.set()"
   ]
  },
  {
   "cell_type": "markdown",
   "id": "fe14e419",
   "metadata": {},
   "source": [
    "## Load The Data"
   ]
  },
  {
   "cell_type": "code",
   "execution_count": 10,
   "id": "2076d0e7",
   "metadata": {
    "ExecuteTime": {
     "end_time": "2024-12-10T13:48:37.454253Z",
     "start_time": "2024-12-10T13:48:37.440417Z"
    }
   },
   "outputs": [],
   "source": [
    "data = pd.read_csv(r\"C:\\Users\\bssam\\Downloads\\archive (1)\\Cancer_Data.csv\")"
   ]
  },
  {
   "cell_type": "markdown",
   "id": "5941f312",
   "metadata": {},
   "source": [
    "## Cancer Types:\n",
    "1. Benign cancer (B)\n",
    "\n",
    "2. Malignant cancer (M)"
   ]
  },
  {
   "cell_type": "markdown",
   "id": "d48937a0",
   "metadata": {},
   "source": [
    "## Remap Dependant Variable"
   ]
  },
  {
   "cell_type": "code",
   "execution_count": 11,
   "id": "95c5653e",
   "metadata": {
    "ExecuteTime": {
     "end_time": "2024-12-10T13:48:37.889572Z",
     "start_time": "2024-12-10T13:48:37.885116Z"
    }
   },
   "outputs": [],
   "source": [
    "data.diagnosis = data.diagnosis.map({'M':1 , 'B':0})"
   ]
  },
  {
   "cell_type": "markdown",
   "id": "0b3de5ce",
   "metadata": {},
   "source": [
    "## Drop unwanted Columns"
   ]
  },
  {
   "cell_type": "code",
   "execution_count": 14,
   "id": "29f2cf88",
   "metadata": {
    "ExecuteTime": {
     "end_time": "2024-12-10T13:49:39.561936Z",
     "start_time": "2024-12-10T13:49:39.554687Z"
    }
   },
   "outputs": [],
   "source": [
    "data = data.drop(['Unnamed: 32' , 'id'] , axis=1)"
   ]
  },
  {
   "cell_type": "markdown",
   "id": "578fac11",
   "metadata": {},
   "source": [
    "## Check Nulls"
   ]
  },
  {
   "cell_type": "code",
   "execution_count": 17,
   "id": "6130ed3f",
   "metadata": {
    "ExecuteTime": {
     "end_time": "2024-12-10T13:50:05.635412Z",
     "start_time": "2024-12-10T13:50:05.617955Z"
    }
   },
   "outputs": [
    {
     "data": {
      "text/plain": [
       "diagnosis                  0\n",
       "radius_mean                0\n",
       "texture_mean               0\n",
       "perimeter_mean             0\n",
       "area_mean                  0\n",
       "smoothness_mean            0\n",
       "compactness_mean           0\n",
       "concavity_mean             0\n",
       "concave points_mean        0\n",
       "symmetry_mean              0\n",
       "fractal_dimension_mean     0\n",
       "radius_se                  0\n",
       "texture_se                 0\n",
       "perimeter_se               0\n",
       "area_se                    0\n",
       "smoothness_se              0\n",
       "compactness_se             0\n",
       "concavity_se               0\n",
       "concave points_se          0\n",
       "symmetry_se                0\n",
       "fractal_dimension_se       0\n",
       "radius_worst               0\n",
       "texture_worst              0\n",
       "perimeter_worst            0\n",
       "area_worst                 0\n",
       "smoothness_worst           0\n",
       "compactness_worst          0\n",
       "concavity_worst            0\n",
       "concave points_worst       0\n",
       "symmetry_worst             0\n",
       "fractal_dimension_worst    0\n",
       "dtype: int64"
      ]
     },
     "execution_count": 17,
     "metadata": {},
     "output_type": "execute_result"
    }
   ],
   "source": [
    "data.isna().sum()"
   ]
  },
  {
   "cell_type": "markdown",
   "id": "ce486839",
   "metadata": {},
   "source": [
    "## Intizalize Dependate and Independant Variables"
   ]
  },
  {
   "cell_type": "code",
   "execution_count": 23,
   "id": "4279683e",
   "metadata": {
    "ExecuteTime": {
     "end_time": "2024-12-10T13:55:41.182126Z",
     "start_time": "2024-12-10T13:55:41.175505Z"
    }
   },
   "outputs": [],
   "source": [
    "y = data.diagnosis\n",
    "x = data.drop(['diagnosis'] , axis= 1)"
   ]
  },
  {
   "cell_type": "markdown",
   "id": "c88fe90c",
   "metadata": {},
   "source": [
    "## Split the Data"
   ]
  },
  {
   "cell_type": "code",
   "execution_count": 24,
   "id": "694eb67d",
   "metadata": {
    "ExecuteTime": {
     "end_time": "2024-12-10T13:55:42.935251Z",
     "start_time": "2024-12-10T13:55:42.913331Z"
    }
   },
   "outputs": [],
   "source": [
    "x_train , x_test , y_train , y_test = train_test_split(x , y , test_size=0.2 ,random_state= 365 , stratify= y)"
   ]
  },
  {
   "cell_type": "markdown",
   "id": "dee08647",
   "metadata": {},
   "source": [
    "## Intialize the Relevant variables for testing"
   ]
  },
  {
   "cell_type": "code",
   "execution_count": 25,
   "id": "38c3b94a",
   "metadata": {
    "ExecuteTime": {
     "end_time": "2024-12-10T13:56:48.174885Z",
     "start_time": "2024-12-10T13:56:48.168888Z"
    }
   },
   "outputs": [],
   "source": [
    "train_accuracies = {}\n",
    "test_accuracies = {}\n",
    "neigbors = np.arange(1,26)"
   ]
  },
  {
   "cell_type": "markdown",
   "id": "99b9a105",
   "metadata": {},
   "source": [
    "## Running a test to check the best n_neighnot value"
   ]
  },
  {
   "cell_type": "code",
   "execution_count": 26,
   "id": "838daed1",
   "metadata": {
    "ExecuteTime": {
     "end_time": "2024-12-10T13:59:49.032171Z",
     "start_time": "2024-12-10T13:59:48.055289Z"
    }
   },
   "outputs": [],
   "source": [
    "for neigbor in neigbors:\n",
    "    knn = KNeighborsClassifier(n_neighbors=neigbor)\n",
    "    knn.fit(x_train , y_train)\n",
    "    train_accuracies[neigbor] = knn.score(x_train,y_train)\n",
    "    test_accuracies[neigbor] = knn.score(x_test,y_test)\n",
    "    "
   ]
  },
  {
   "cell_type": "markdown",
   "id": "f854c348",
   "metadata": {},
   "source": [
    "## Plot The Graph"
   ]
  },
  {
   "cell_type": "code",
   "execution_count": 33,
   "id": "3f75f1d4",
   "metadata": {
    "ExecuteTime": {
     "end_time": "2024-12-10T14:27:52.714297Z",
     "start_time": "2024-12-10T14:27:52.575931Z"
    }
   },
   "outputs": [
    {
     "data": {
      "image/png": "[encoded data removed]",
      "text/plain": [
       "<Figure size 2000x500 with 1 Axes>"
      ]
     },
     "metadata": {},
     "output_type": "display_data"
    }
   ],
   "source": [
    "plt.figure(figsize=(20,5))\n",
    "plt.title('KNN Accuracies' , size = 18)\n",
    "plt.plot(neigbors , train_accuracies.values() , label = 'train_accuracies')\n",
    "plt.plot(neigbors , test_accuracies.values() , label = 'test_accuracies')\n",
    "plt.ylabel('Accuracies' , size = 14)\n",
    "plt.xlabel('neigbors', size = 14)\n",
    "plt.show()"
   ]
  },
  {
   "cell_type": "markdown",
   "id": "0951ea17",
   "metadata": {},
   "source": [
    "## Fit the Model with the most Proper n_neighbor value\n",
    "## Check the accuracy"
   ]
  },
  {
   "cell_type": "code",
   "execution_count": 32,
   "id": "91dc9e73",
   "metadata": {
    "ExecuteTime": {
     "end_time": "2024-12-10T14:05:27.373768Z",
     "start_time": "2024-12-10T14:05:27.337138Z"
    }
   },
   "outputs": [
    {
     "name": "stdout",
     "output_type": "stream",
     "text": [
      "Best Accuracy is: 0.9473684210526315\n"
     ]
    }
   ],
   "source": [
    "knn = KNeighborsClassifier(n_neighbors=13)\n",
    "knn.fit(x_train , y_train)\n",
    "print(f'Best Accuracy is: {knn.score(x_test,y_test)}')"
   ]
  }
 ],
 "metadata": {
  "kernelspec": {
   "display_name": "Python 3 (ipykernel)",
   "language": "python",
   "name": "python3"
  },
  "language_info": {
   "codemirror_mode": {
    "name": "ipython",
    "version": 3
   },
   "file_extension": ".py",
   "mimetype": "text/x-python",
   "name": "python",
   "nbconvert_exporter": "python",
   "pygments_lexer": "ipython3",
   "version": "3.11.9"
  }
 },
 "nbformat": 4,
 "nbformat_minor": 5
}
